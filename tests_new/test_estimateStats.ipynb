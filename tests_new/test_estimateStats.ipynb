{
 "cells": [
  {
   "cell_type": "code",
   "execution_count": 1,
   "metadata": {},
   "outputs": [],
   "source": [
    "import sys; sys.path.insert(1, './../')\n",
    "from src.getstats import StatQuants\n",
    "from settings import Settings\n",
    "import numpy as np"
   ]
  },
  {
   "cell_type": "code",
   "execution_count": 2,
   "metadata": {},
   "outputs": [
    {
     "name": "stdout",
     "output_type": "stream",
     "text": [
      "\n",
      "------------------ Settings for the pipeline ------------------\n",
      "\n",
      "Frequencies: Between (50 - 200) MHz with step size of 1 MHz.\n",
      "21 TS: ../data/TS21/lfcal_training_set_8-2020.hdf5\n",
      "FG TS: ../data/TSFG/Nreg_1/\n",
      "Number of time bins: 1\n",
      "Start time of each time bin: 00:00:00\n",
      "Each value is this list is integrated for 12 bins\n",
      "Antenna design: ['dipole']\n",
      "Integration time for each time bin: 24.0 h\n",
      "Total number of foreground modes: 50\n",
      "Total number of 21cm modes: 80\n",
      "Information Criterion: DIC\n",
      "Filename to store the info criteria: DIC_search_t1_dipole.txt\n",
      "Visualization: False\n",
      "Save figures: False \n",
      "\n"
     ]
    }
   ],
   "source": [
    "set = Settings()\n",
    "set.ANT = [\"dipole\"]\n",
    "set.LST = 1\n",
    "set.PATH21TS = \"../data/TS21/lfcal_training_set_8-2020.hdf5\"\n",
    "set.PATHFGTS = \"../data/TSFG/Nreg_1/\"\n",
    "set.SAVE = False\n",
    "set.VISUALS = False\n",
    "set.MODES_FG = 50\n",
    "set.FNAME = \"DIC_search_t%d_%s.txt\"%(set.LST, set.ANT[0])\n",
    "set.printSettings()"
   ]
  },
  {
   "cell_type": "code",
   "execution_count": 3,
   "metadata": {},
   "outputs": [],
   "source": [
    "statquants = StatQuants(nu=set.NU, nLST=set.LST, ant=set.ANT, path21TS=set.PATH21TS, pathFgTS=set.PATHFGTS,\n",
    "                        obsDate=\"2019-10-01\", obsDateTime=set.timeList, intBins=set.intBins, numReg=1,\n",
    "                        fgModel=\"gsm\", dT=set.dT, modesFg=set.MODES_FG, modes21=set.MODES_21,\n",
    "                        quantity=set.QUANTITY, file=set.FNAME)"
   ]
  },
  {
   "cell_type": "code",
   "execution_count": 4,
   "metadata": {},
   "outputs": [
    {
     "name": "stdout",
     "output_type": "stream",
     "text": [
      "--------------- Estimating statistical measures ---------------\n",
      "\n"
     ]
    },
    {
     "data": {
      "application/vnd.jupyter.widget-view+json": {
       "model_id": "afd00b4edcde468d85e0d425cd890fa7",
       "version_major": 2,
       "version_minor": 0
      },
      "text/plain": [
       "i21:   0%|          | 0/2 [00:00<?, ?it/s]"
      ]
     },
     "metadata": {},
     "output_type": "display_data"
    },
    {
     "data": {
      "application/vnd.jupyter.widget-view+json": {
       "model_id": "ed17f5c9984f44c89344caf2a3ef0375",
       "version_major": 2,
       "version_minor": 0
      },
      "text/plain": [
       "iFg:   0%|          | 0/2 [00:00<?, ?it/s]"
      ]
     },
     "metadata": {},
     "output_type": "display_data"
    },
    {
     "data": {
      "application/vnd.jupyter.widget-view+json": {
       "model_id": "c8f40990c9644fd585c25ffcede73c18",
       "version_major": 2,
       "version_minor": 0
      },
      "text/plain": [
       "iFg:   0%|          | 0/2 [00:00<?, ?it/s]"
      ]
     },
     "metadata": {},
     "output_type": "display_data"
    }
   ],
   "source": [
    "statquants.getStats(fname='Stats_lst-%d_ant-%s_%s.txt'\n",
    "                    %(set.LST, '-'.join(set.ANT), set.QUANTITY),\n",
    "                    iList21=np.linspace(0, 20_000, 2),\n",
    "                    iListFg=np.linspace(0, 100, 2))"
   ]
  },
  {
   "cell_type": "code",
   "execution_count": null,
   "metadata": {},
   "outputs": [],
   "source": []
  }
 ],
 "metadata": {
  "interpreter": {
   "hash": "3819961e6417c248077ce974b10acea5523f067d9d331449f620086f000a3e54"
  },
  "kernelspec": {
   "display_name": "Python 3.8.10 ('svd38')",
   "language": "python",
   "name": "python3"
  },
  "language_info": {
   "codemirror_mode": {
    "name": "ipython",
    "version": 3
   },
   "file_extension": ".py",
   "mimetype": "text/x-python",
   "name": "python",
   "nbconvert_exporter": "python",
   "pygments_lexer": "ipython3",
   "version": "3.8.10"
  },
  "orig_nbformat": 4
 },
 "nbformat": 4,
 "nbformat_minor": 2
}

{
 "cells": [
  {
   "cell_type": "code",
   "execution_count": 1,
   "metadata": {},
   "outputs": [],
   "source": [
    "import sys; sys.path.insert(1, './../')\n",
    "from src.getstats import StatQuants_P2\n",
    "from settings import Settings_P2\n",
    "import numpy as np"
   ]
  },
  {
   "cell_type": "code",
   "execution_count": 5,
   "metadata": {},
   "outputs": [
    {
     "name": "stdout",
     "output_type": "stream",
     "text": [
      "\n",
      "------------------ Settings for the pipeline ------------------\n",
      "\n",
      "Frequencies: Between (50 - 200) MHz with step size of 1 MHz.\n",
      "21 TS: ./../data/TS21/lfcal_training_set_8-2020.hdf5\n",
      "FG TS: ./../data/TSFG/Nreg_1\n",
      "Number of time bins for 1 antenna: 1\n",
      "Start time of each time bin ant-1: 00:00:00\n",
      "Start time of each time bin ant-2: 03:00:00\n",
      "Each value is this list is integrated for 6 bins of 30 min.\n",
      "Antenna design: ['dipole-sinuous']\n",
      "Integration time for each time bin: 12.0 h\n",
      "Total number of foreground modes: 50\n",
      "Total number of 21cm modes: 80\n",
      "Information Criterion: DIC\n",
      "Filename to store the info criteria: ./DIC_search.txt\n",
      "Visualization: False\n",
      "Save figures: False \n",
      "\n"
     ]
    }
   ],
   "source": [
    "set = Settings_P2()\n",
    "set.PATH21TS = \"./../data/TS21/lfcal_training_set_8-2020.hdf5\"\n",
    "set.PATHFGTS = \"./../data/TSFG/Nreg_1\"\n",
    "set.ANT1 = [\"dipole\"]\n",
    "set.ANT2 = [\"sinuous\"]\n",
    "set.VISUALS = False\n",
    "set.SAVE = False\n",
    "set.MODES_FG = 50\n",
    "set.LST_2_FIT = 1\n",
    "set.printSettings()"
   ]
  },
  {
   "cell_type": "code",
   "execution_count": 6,
   "metadata": {},
   "outputs": [],
   "source": [
    "statquants = StatQuants_P2(nu=set.NU, lst2fit=set.LST_2_FIT, nLST=set.LST, ant=set.ANT, ant1=set.ANT1, ant2=set.ANT2,\n",
    "                           path21TS=set.PATH21TS, pathFgTS=set.PATHFGTS, obsDate=\"2019-10-01\", obsDateTime1=set.timeList1,\n",
    "                           obsDateTime2=set.timeList2, intBins=set.intBins, numReg=1, fgModel=\"gsm\", dT=set.dT,\n",
    "                           modesFg=set.MODES_FG, modes21=set.MODES_21, quantity=set.QUANTITY, file=set.FNAME)"
   ]
  },
  {
   "cell_type": "code",
   "execution_count": 7,
   "metadata": {},
   "outputs": [
    {
     "name": "stdout",
     "output_type": "stream",
     "text": [
      "--------------- Estimating statistical measures ---------------\n",
      "\n"
     ]
    },
    {
     "data": {
      "application/vnd.jupyter.widget-view+json": {
       "model_id": "443aa45cbf044a5ca914da95e440e5a9",
       "version_major": 2,
       "version_minor": 0
      },
      "text/plain": [
       "i21:   0%|          | 0/2 [00:00<?, ?it/s]"
      ]
     },
     "metadata": {},
     "output_type": "display_data"
    },
    {
     "data": {
      "application/vnd.jupyter.widget-view+json": {
       "model_id": "7be7cc92dab34db482483e88c95c3726",
       "version_major": 2,
       "version_minor": 0
      },
      "text/plain": [
       "iFg:   0%|          | 0/2 [00:00<?, ?it/s]"
      ]
     },
     "metadata": {},
     "output_type": "display_data"
    },
    {
     "data": {
      "application/vnd.jupyter.widget-view+json": {
       "model_id": "26dc0f8b3dc44dabad3a9effd2cefb80",
       "version_major": 2,
       "version_minor": 0
      },
      "text/plain": [
       "iFg:   0%|          | 0/2 [00:00<?, ?it/s]"
      ]
     },
     "metadata": {},
     "output_type": "display_data"
    }
   ],
   "source": [
    "statquants.getStats(fname='Stats_lst-%d_ant-%s_%s.txt'\n",
    "                    %(set.LST_2_FIT, set.ANT[0], set.QUANTITY),\n",
    "                    iList21=np.linspace(0, 20_000, 2),\n",
    "                    iListFg=np.linspace(0, 100, 2))"
   ]
  },
  {
   "cell_type": "code",
   "execution_count": null,
   "metadata": {},
   "outputs": [],
   "source": []
  }
 ],
 "metadata": {
  "interpreter": {
   "hash": "3819961e6417c248077ce974b10acea5523f067d9d331449f620086f000a3e54"
  },
  "kernelspec": {
   "display_name": "Python 3.8.10 ('svd38')",
   "language": "python",
   "name": "python3"
  },
  "language_info": {
   "codemirror_mode": {
    "name": "ipython",
    "version": 3
   },
   "file_extension": ".py",
   "mimetype": "text/x-python",
   "name": "python",
   "nbconvert_exporter": "python",
   "pygments_lexer": "ipython3",
   "version": "3.8.10"
  },
  "orig_nbformat": 4
 },
 "nbformat": 4,
 "nbformat_minor": 2
}
